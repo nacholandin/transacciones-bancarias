{
 "cells": [
  {
   "cell_type": "code",
   "execution_count": 1,
   "id": "f5c9e754-b658-4c24-a4ea-b3ef909a8842",
   "metadata": {},
   "outputs": [],
   "source": [
    "import pandas as pd\n",
    "import matplotlib.pyplot as plt\n",
    "import seaborn as sns\n",
    "import plotly.express as px"
   ]
  },
  {
   "cell_type": "code",
   "execution_count": 2,
   "id": "d311e7ac-0746-4764-aae8-bd5fd618c1b5",
   "metadata": {},
   "outputs": [],
   "source": [
    "df = pd.read_csv(\"credit_card_transactions.csv\")"
   ]
  },
  {
   "cell_type": "code",
   "execution_count": 3,
   "id": "427adda8-e54f-49f3-b2c4-efc6ae1bb978",
   "metadata": {},
   "outputs": [
    {
     "data": {
      "text/html": [
       "<div>\n",
       "<style scoped>\n",
       "    .dataframe tbody tr th:only-of-type {\n",
       "        vertical-align: middle;\n",
       "    }\n",
       "\n",
       "    .dataframe tbody tr th {\n",
       "        vertical-align: top;\n",
       "    }\n",
       "\n",
       "    .dataframe thead th {\n",
       "        text-align: right;\n",
       "    }\n",
       "</style>\n",
       "<table border=\"1\" class=\"dataframe\">\n",
       "  <thead>\n",
       "    <tr style=\"text-align: right;\">\n",
       "      <th></th>\n",
       "      <th>Unnamed: 0</th>\n",
       "      <th>trans_date_trans_time</th>\n",
       "      <th>cc_num</th>\n",
       "      <th>merchant</th>\n",
       "      <th>category</th>\n",
       "      <th>amt</th>\n",
       "      <th>first</th>\n",
       "      <th>last</th>\n",
       "      <th>gender</th>\n",
       "      <th>street</th>\n",
       "      <th>...</th>\n",
       "      <th>long</th>\n",
       "      <th>city_pop</th>\n",
       "      <th>job</th>\n",
       "      <th>dob</th>\n",
       "      <th>trans_num</th>\n",
       "      <th>unix_time</th>\n",
       "      <th>merch_lat</th>\n",
       "      <th>merch_long</th>\n",
       "      <th>is_fraud</th>\n",
       "      <th>merch_zipcode</th>\n",
       "    </tr>\n",
       "  </thead>\n",
       "  <tbody>\n",
       "    <tr>\n",
       "      <th>0</th>\n",
       "      <td>0</td>\n",
       "      <td>2019-01-01 00:00:18</td>\n",
       "      <td>2703186189652095</td>\n",
       "      <td>fraud_Rippin, Kub and Mann</td>\n",
       "      <td>misc_net</td>\n",
       "      <td>4.97</td>\n",
       "      <td>Jennifer</td>\n",
       "      <td>Banks</td>\n",
       "      <td>F</td>\n",
       "      <td>561 Perry Cove</td>\n",
       "      <td>...</td>\n",
       "      <td>-81.1781</td>\n",
       "      <td>3495</td>\n",
       "      <td>Psychologist, counselling</td>\n",
       "      <td>1988-03-09</td>\n",
       "      <td>0b242abb623afc578575680df30655b9</td>\n",
       "      <td>1325376018</td>\n",
       "      <td>36.011293</td>\n",
       "      <td>-82.048315</td>\n",
       "      <td>0</td>\n",
       "      <td>28705.0</td>\n",
       "    </tr>\n",
       "    <tr>\n",
       "      <th>1</th>\n",
       "      <td>1</td>\n",
       "      <td>2019-01-01 00:00:44</td>\n",
       "      <td>630423337322</td>\n",
       "      <td>fraud_Heller, Gutmann and Zieme</td>\n",
       "      <td>grocery_pos</td>\n",
       "      <td>107.23</td>\n",
       "      <td>Stephanie</td>\n",
       "      <td>Gill</td>\n",
       "      <td>F</td>\n",
       "      <td>43039 Riley Greens Suite 393</td>\n",
       "      <td>...</td>\n",
       "      <td>-118.2105</td>\n",
       "      <td>149</td>\n",
       "      <td>Special educational needs teacher</td>\n",
       "      <td>1978-06-21</td>\n",
       "      <td>1f76529f8574734946361c461b024d99</td>\n",
       "      <td>1325376044</td>\n",
       "      <td>49.159047</td>\n",
       "      <td>-118.186462</td>\n",
       "      <td>0</td>\n",
       "      <td>NaN</td>\n",
       "    </tr>\n",
       "    <tr>\n",
       "      <th>2</th>\n",
       "      <td>2</td>\n",
       "      <td>2019-01-01 00:00:51</td>\n",
       "      <td>38859492057661</td>\n",
       "      <td>fraud_Lind-Buckridge</td>\n",
       "      <td>entertainment</td>\n",
       "      <td>220.11</td>\n",
       "      <td>Edward</td>\n",
       "      <td>Sanchez</td>\n",
       "      <td>M</td>\n",
       "      <td>594 White Dale Suite 530</td>\n",
       "      <td>...</td>\n",
       "      <td>-112.2620</td>\n",
       "      <td>4154</td>\n",
       "      <td>Nature conservation officer</td>\n",
       "      <td>1962-01-19</td>\n",
       "      <td>a1a22d70485983eac12b5b88dad1cf95</td>\n",
       "      <td>1325376051</td>\n",
       "      <td>43.150704</td>\n",
       "      <td>-112.154481</td>\n",
       "      <td>0</td>\n",
       "      <td>83236.0</td>\n",
       "    </tr>\n",
       "    <tr>\n",
       "      <th>3</th>\n",
       "      <td>3</td>\n",
       "      <td>2019-01-01 00:01:16</td>\n",
       "      <td>3534093764340240</td>\n",
       "      <td>fraud_Kutch, Hermiston and Farrell</td>\n",
       "      <td>gas_transport</td>\n",
       "      <td>45.00</td>\n",
       "      <td>Jeremy</td>\n",
       "      <td>White</td>\n",
       "      <td>M</td>\n",
       "      <td>9443 Cynthia Court Apt. 038</td>\n",
       "      <td>...</td>\n",
       "      <td>-112.1138</td>\n",
       "      <td>1939</td>\n",
       "      <td>Patent attorney</td>\n",
       "      <td>1967-01-12</td>\n",
       "      <td>6b849c168bdad6f867558c3793159a81</td>\n",
       "      <td>1325376076</td>\n",
       "      <td>47.034331</td>\n",
       "      <td>-112.561071</td>\n",
       "      <td>0</td>\n",
       "      <td>NaN</td>\n",
       "    </tr>\n",
       "    <tr>\n",
       "      <th>4</th>\n",
       "      <td>4</td>\n",
       "      <td>2019-01-01 00:03:06</td>\n",
       "      <td>375534208663984</td>\n",
       "      <td>fraud_Keeling-Crist</td>\n",
       "      <td>misc_pos</td>\n",
       "      <td>41.96</td>\n",
       "      <td>Tyler</td>\n",
       "      <td>Garcia</td>\n",
       "      <td>M</td>\n",
       "      <td>408 Bradley Rest</td>\n",
       "      <td>...</td>\n",
       "      <td>-79.4629</td>\n",
       "      <td>99</td>\n",
       "      <td>Dance movement psychotherapist</td>\n",
       "      <td>1986-03-28</td>\n",
       "      <td>a41d7549acf90789359a9aa5346dcb46</td>\n",
       "      <td>1325376186</td>\n",
       "      <td>38.674999</td>\n",
       "      <td>-78.632459</td>\n",
       "      <td>0</td>\n",
       "      <td>22844.0</td>\n",
       "    </tr>\n",
       "  </tbody>\n",
       "</table>\n",
       "<p>5 rows × 24 columns</p>\n",
       "</div>"
      ],
      "text/plain": [
       "   Unnamed: 0 trans_date_trans_time            cc_num  \\\n",
       "0           0   2019-01-01 00:00:18  2703186189652095   \n",
       "1           1   2019-01-01 00:00:44      630423337322   \n",
       "2           2   2019-01-01 00:00:51    38859492057661   \n",
       "3           3   2019-01-01 00:01:16  3534093764340240   \n",
       "4           4   2019-01-01 00:03:06   375534208663984   \n",
       "\n",
       "                             merchant       category     amt      first  \\\n",
       "0          fraud_Rippin, Kub and Mann       misc_net    4.97   Jennifer   \n",
       "1     fraud_Heller, Gutmann and Zieme    grocery_pos  107.23  Stephanie   \n",
       "2                fraud_Lind-Buckridge  entertainment  220.11     Edward   \n",
       "3  fraud_Kutch, Hermiston and Farrell  gas_transport   45.00     Jeremy   \n",
       "4                 fraud_Keeling-Crist       misc_pos   41.96      Tyler   \n",
       "\n",
       "      last gender                        street  ...      long city_pop  \\\n",
       "0    Banks      F                561 Perry Cove  ...  -81.1781     3495   \n",
       "1     Gill      F  43039 Riley Greens Suite 393  ... -118.2105      149   \n",
       "2  Sanchez      M      594 White Dale Suite 530  ... -112.2620     4154   \n",
       "3    White      M   9443 Cynthia Court Apt. 038  ... -112.1138     1939   \n",
       "4   Garcia      M              408 Bradley Rest  ...  -79.4629       99   \n",
       "\n",
       "                                 job         dob  \\\n",
       "0          Psychologist, counselling  1988-03-09   \n",
       "1  Special educational needs teacher  1978-06-21   \n",
       "2        Nature conservation officer  1962-01-19   \n",
       "3                    Patent attorney  1967-01-12   \n",
       "4     Dance movement psychotherapist  1986-03-28   \n",
       "\n",
       "                          trans_num   unix_time  merch_lat  merch_long  \\\n",
       "0  0b242abb623afc578575680df30655b9  1325376018  36.011293  -82.048315   \n",
       "1  1f76529f8574734946361c461b024d99  1325376044  49.159047 -118.186462   \n",
       "2  a1a22d70485983eac12b5b88dad1cf95  1325376051  43.150704 -112.154481   \n",
       "3  6b849c168bdad6f867558c3793159a81  1325376076  47.034331 -112.561071   \n",
       "4  a41d7549acf90789359a9aa5346dcb46  1325376186  38.674999  -78.632459   \n",
       "\n",
       "  is_fraud  merch_zipcode  \n",
       "0        0        28705.0  \n",
       "1        0            NaN  \n",
       "2        0        83236.0  \n",
       "3        0            NaN  \n",
       "4        0        22844.0  \n",
       "\n",
       "[5 rows x 24 columns]"
      ]
     },
     "execution_count": 3,
     "metadata": {},
     "output_type": "execute_result"
    }
   ],
   "source": [
    "df.head(5)"
   ]
  },
  {
   "cell_type": "code",
   "execution_count": 4,
   "id": "1a13f2da-06f9-48f6-ba0a-dcf493b89ddd",
   "metadata": {},
   "outputs": [
    {
     "name": "stdout",
     "output_type": "stream",
     "text": [
      "<class 'pandas.core.frame.DataFrame'>\n",
      "RangeIndex: 1296675 entries, 0 to 1296674\n",
      "Data columns (total 24 columns):\n",
      " #   Column                 Non-Null Count    Dtype  \n",
      "---  ------                 --------------    -----  \n",
      " 0   Unnamed: 0             1296675 non-null  int64  \n",
      " 1   trans_date_trans_time  1296675 non-null  object \n",
      " 2   cc_num                 1296675 non-null  int64  \n",
      " 3   merchant               1296675 non-null  object \n",
      " 4   category               1296675 non-null  object \n",
      " 5   amt                    1296675 non-null  float64\n",
      " 6   first                  1296675 non-null  object \n",
      " 7   last                   1296675 non-null  object \n",
      " 8   gender                 1296675 non-null  object \n",
      " 9   street                 1296675 non-null  object \n",
      " 10  city                   1296675 non-null  object \n",
      " 11  state                  1296675 non-null  object \n",
      " 12  zip                    1296675 non-null  int64  \n",
      " 13  lat                    1296675 non-null  float64\n",
      " 14  long                   1296675 non-null  float64\n",
      " 15  city_pop               1296675 non-null  int64  \n",
      " 16  job                    1296675 non-null  object \n",
      " 17  dob                    1296675 non-null  object \n",
      " 18  trans_num              1296675 non-null  object \n",
      " 19  unix_time              1296675 non-null  int64  \n",
      " 20  merch_lat              1296675 non-null  float64\n",
      " 21  merch_long             1296675 non-null  float64\n",
      " 22  is_fraud               1296675 non-null  int64  \n",
      " 23  merch_zipcode          1100702 non-null  float64\n",
      "dtypes: float64(6), int64(6), object(12)\n",
      "memory usage: 237.4+ MB\n"
     ]
    }
   ],
   "source": [
    "df.info()"
   ]
  },
  {
   "cell_type": "code",
   "execution_count": 5,
   "id": "52d48328-6ba0-49ee-bdaf-73b36992633b",
   "metadata": {},
   "outputs": [],
   "source": [
    "df['trans_date_trans_time'] = pd.to_datetime(df['trans_date_trans_time'])\n",
    "df['hour'] = df['trans_date_trans_time'].dt.hour\n",
    "df['year'] = df['trans_date_trans_time'].dt.year\n",
    "df['weekday'] = df['trans_date_trans_time'].dt.day_name()\n",
    "df['month'] = df['trans_date_trans_time'].dt.month_name()"
   ]
  },
  {
   "cell_type": "code",
   "execution_count": 6,
   "id": "f9419505-e128-4ab8-9b61-ad71d3695757",
   "metadata": {},
   "outputs": [
    {
     "data": {
      "text/html": [
       "<div>\n",
       "<style scoped>\n",
       "    .dataframe tbody tr th:only-of-type {\n",
       "        vertical-align: middle;\n",
       "    }\n",
       "\n",
       "    .dataframe tbody tr th {\n",
       "        vertical-align: top;\n",
       "    }\n",
       "\n",
       "    .dataframe thead th {\n",
       "        text-align: right;\n",
       "    }\n",
       "</style>\n",
       "<table border=\"1\" class=\"dataframe\">\n",
       "  <thead>\n",
       "    <tr style=\"text-align: right;\">\n",
       "      <th></th>\n",
       "      <th>Unnamed: 0</th>\n",
       "      <th>trans_date_trans_time</th>\n",
       "      <th>cc_num</th>\n",
       "      <th>amt</th>\n",
       "      <th>zip</th>\n",
       "      <th>lat</th>\n",
       "      <th>long</th>\n",
       "      <th>city_pop</th>\n",
       "      <th>unix_time</th>\n",
       "      <th>merch_lat</th>\n",
       "      <th>merch_long</th>\n",
       "      <th>is_fraud</th>\n",
       "      <th>merch_zipcode</th>\n",
       "      <th>hour</th>\n",
       "      <th>year</th>\n",
       "    </tr>\n",
       "  </thead>\n",
       "  <tbody>\n",
       "    <tr>\n",
       "      <th>count</th>\n",
       "      <td>1.296675e+06</td>\n",
       "      <td>1296675</td>\n",
       "      <td>1.296675e+06</td>\n",
       "      <td>1.296675e+06</td>\n",
       "      <td>1.296675e+06</td>\n",
       "      <td>1.296675e+06</td>\n",
       "      <td>1.296675e+06</td>\n",
       "      <td>1.296675e+06</td>\n",
       "      <td>1.296675e+06</td>\n",
       "      <td>1.296675e+06</td>\n",
       "      <td>1.296675e+06</td>\n",
       "      <td>1.296675e+06</td>\n",
       "      <td>1.100702e+06</td>\n",
       "      <td>1.296675e+06</td>\n",
       "      <td>1.296675e+06</td>\n",
       "    </tr>\n",
       "    <tr>\n",
       "      <th>mean</th>\n",
       "      <td>6.483370e+05</td>\n",
       "      <td>2019-10-03 12:47:28.070214144</td>\n",
       "      <td>4.171920e+17</td>\n",
       "      <td>7.035104e+01</td>\n",
       "      <td>4.880067e+04</td>\n",
       "      <td>3.853762e+01</td>\n",
       "      <td>-9.022634e+01</td>\n",
       "      <td>8.882444e+04</td>\n",
       "      <td>1.349244e+09</td>\n",
       "      <td>3.853734e+01</td>\n",
       "      <td>-9.022646e+01</td>\n",
       "      <td>5.788652e-03</td>\n",
       "      <td>4.682575e+04</td>\n",
       "      <td>1.280486e+01</td>\n",
       "      <td>2.019287e+03</td>\n",
       "    </tr>\n",
       "    <tr>\n",
       "      <th>min</th>\n",
       "      <td>0.000000e+00</td>\n",
       "      <td>2019-01-01 00:00:18</td>\n",
       "      <td>6.041621e+10</td>\n",
       "      <td>1.000000e+00</td>\n",
       "      <td>1.257000e+03</td>\n",
       "      <td>2.002710e+01</td>\n",
       "      <td>-1.656723e+02</td>\n",
       "      <td>2.300000e+01</td>\n",
       "      <td>1.325376e+09</td>\n",
       "      <td>1.902779e+01</td>\n",
       "      <td>-1.666712e+02</td>\n",
       "      <td>0.000000e+00</td>\n",
       "      <td>1.001000e+03</td>\n",
       "      <td>0.000000e+00</td>\n",
       "      <td>2.019000e+03</td>\n",
       "    </tr>\n",
       "    <tr>\n",
       "      <th>25%</th>\n",
       "      <td>3.241685e+05</td>\n",
       "      <td>2019-06-03 19:12:22.500000</td>\n",
       "      <td>1.800429e+14</td>\n",
       "      <td>9.650000e+00</td>\n",
       "      <td>2.623700e+04</td>\n",
       "      <td>3.462050e+01</td>\n",
       "      <td>-9.679800e+01</td>\n",
       "      <td>7.430000e+02</td>\n",
       "      <td>1.338751e+09</td>\n",
       "      <td>3.473357e+01</td>\n",
       "      <td>-9.689728e+01</td>\n",
       "      <td>0.000000e+00</td>\n",
       "      <td>2.511400e+04</td>\n",
       "      <td>7.000000e+00</td>\n",
       "      <td>2.019000e+03</td>\n",
       "    </tr>\n",
       "    <tr>\n",
       "      <th>50%</th>\n",
       "      <td>6.483370e+05</td>\n",
       "      <td>2019-10-03 07:35:47</td>\n",
       "      <td>3.521417e+15</td>\n",
       "      <td>4.752000e+01</td>\n",
       "      <td>4.817400e+04</td>\n",
       "      <td>3.935430e+01</td>\n",
       "      <td>-8.747690e+01</td>\n",
       "      <td>2.456000e+03</td>\n",
       "      <td>1.349250e+09</td>\n",
       "      <td>3.936568e+01</td>\n",
       "      <td>-8.743839e+01</td>\n",
       "      <td>0.000000e+00</td>\n",
       "      <td>4.586000e+04</td>\n",
       "      <td>1.400000e+01</td>\n",
       "      <td>2.019000e+03</td>\n",
       "    </tr>\n",
       "    <tr>\n",
       "      <th>75%</th>\n",
       "      <td>9.725055e+05</td>\n",
       "      <td>2020-01-28 15:02:55.500000</td>\n",
       "      <td>4.642255e+15</td>\n",
       "      <td>8.314000e+01</td>\n",
       "      <td>7.204200e+04</td>\n",
       "      <td>4.194040e+01</td>\n",
       "      <td>-8.015800e+01</td>\n",
       "      <td>2.032800e+04</td>\n",
       "      <td>1.359385e+09</td>\n",
       "      <td>4.195716e+01</td>\n",
       "      <td>-8.023680e+01</td>\n",
       "      <td>0.000000e+00</td>\n",
       "      <td>6.831900e+04</td>\n",
       "      <td>1.900000e+01</td>\n",
       "      <td>2.020000e+03</td>\n",
       "    </tr>\n",
       "    <tr>\n",
       "      <th>max</th>\n",
       "      <td>1.296674e+06</td>\n",
       "      <td>2020-06-21 12:13:37</td>\n",
       "      <td>4.992346e+18</td>\n",
       "      <td>2.894890e+04</td>\n",
       "      <td>9.978300e+04</td>\n",
       "      <td>6.669330e+01</td>\n",
       "      <td>-6.795030e+01</td>\n",
       "      <td>2.906700e+06</td>\n",
       "      <td>1.371817e+09</td>\n",
       "      <td>6.751027e+01</td>\n",
       "      <td>-6.695090e+01</td>\n",
       "      <td>1.000000e+00</td>\n",
       "      <td>9.940300e+04</td>\n",
       "      <td>2.300000e+01</td>\n",
       "      <td>2.020000e+03</td>\n",
       "    </tr>\n",
       "    <tr>\n",
       "      <th>std</th>\n",
       "      <td>3.743180e+05</td>\n",
       "      <td>NaN</td>\n",
       "      <td>1.308806e+18</td>\n",
       "      <td>1.603160e+02</td>\n",
       "      <td>2.689322e+04</td>\n",
       "      <td>5.075808e+00</td>\n",
       "      <td>1.375908e+01</td>\n",
       "      <td>3.019564e+05</td>\n",
       "      <td>1.284128e+07</td>\n",
       "      <td>5.109788e+00</td>\n",
       "      <td>1.377109e+01</td>\n",
       "      <td>7.586269e-02</td>\n",
       "      <td>2.583400e+04</td>\n",
       "      <td>6.817824e+00</td>\n",
       "      <td>4.522452e-01</td>\n",
       "    </tr>\n",
       "  </tbody>\n",
       "</table>\n",
       "</div>"
      ],
      "text/plain": [
       "         Unnamed: 0          trans_date_trans_time        cc_num  \\\n",
       "count  1.296675e+06                        1296675  1.296675e+06   \n",
       "mean   6.483370e+05  2019-10-03 12:47:28.070214144  4.171920e+17   \n",
       "min    0.000000e+00            2019-01-01 00:00:18  6.041621e+10   \n",
       "25%    3.241685e+05     2019-06-03 19:12:22.500000  1.800429e+14   \n",
       "50%    6.483370e+05            2019-10-03 07:35:47  3.521417e+15   \n",
       "75%    9.725055e+05     2020-01-28 15:02:55.500000  4.642255e+15   \n",
       "max    1.296674e+06            2020-06-21 12:13:37  4.992346e+18   \n",
       "std    3.743180e+05                            NaN  1.308806e+18   \n",
       "\n",
       "                amt           zip           lat          long      city_pop  \\\n",
       "count  1.296675e+06  1.296675e+06  1.296675e+06  1.296675e+06  1.296675e+06   \n",
       "mean   7.035104e+01  4.880067e+04  3.853762e+01 -9.022634e+01  8.882444e+04   \n",
       "min    1.000000e+00  1.257000e+03  2.002710e+01 -1.656723e+02  2.300000e+01   \n",
       "25%    9.650000e+00  2.623700e+04  3.462050e+01 -9.679800e+01  7.430000e+02   \n",
       "50%    4.752000e+01  4.817400e+04  3.935430e+01 -8.747690e+01  2.456000e+03   \n",
       "75%    8.314000e+01  7.204200e+04  4.194040e+01 -8.015800e+01  2.032800e+04   \n",
       "max    2.894890e+04  9.978300e+04  6.669330e+01 -6.795030e+01  2.906700e+06   \n",
       "std    1.603160e+02  2.689322e+04  5.075808e+00  1.375908e+01  3.019564e+05   \n",
       "\n",
       "          unix_time     merch_lat    merch_long      is_fraud  merch_zipcode  \\\n",
       "count  1.296675e+06  1.296675e+06  1.296675e+06  1.296675e+06   1.100702e+06   \n",
       "mean   1.349244e+09  3.853734e+01 -9.022646e+01  5.788652e-03   4.682575e+04   \n",
       "min    1.325376e+09  1.902779e+01 -1.666712e+02  0.000000e+00   1.001000e+03   \n",
       "25%    1.338751e+09  3.473357e+01 -9.689728e+01  0.000000e+00   2.511400e+04   \n",
       "50%    1.349250e+09  3.936568e+01 -8.743839e+01  0.000000e+00   4.586000e+04   \n",
       "75%    1.359385e+09  4.195716e+01 -8.023680e+01  0.000000e+00   6.831900e+04   \n",
       "max    1.371817e+09  6.751027e+01 -6.695090e+01  1.000000e+00   9.940300e+04   \n",
       "std    1.284128e+07  5.109788e+00  1.377109e+01  7.586269e-02   2.583400e+04   \n",
       "\n",
       "               hour          year  \n",
       "count  1.296675e+06  1.296675e+06  \n",
       "mean   1.280486e+01  2.019287e+03  \n",
       "min    0.000000e+00  2.019000e+03  \n",
       "25%    7.000000e+00  2.019000e+03  \n",
       "50%    1.400000e+01  2.019000e+03  \n",
       "75%    1.900000e+01  2.020000e+03  \n",
       "max    2.300000e+01  2.020000e+03  \n",
       "std    6.817824e+00  4.522452e-01  "
      ]
     },
     "execution_count": 6,
     "metadata": {},
     "output_type": "execute_result"
    }
   ],
   "source": [
    "df.describe()"
   ]
  },
  {
   "cell_type": "code",
   "execution_count": 7,
   "id": "ec9943c1-db37-48f1-847b-4faffa628746",
   "metadata": {},
   "outputs": [
    {
     "data": {
      "text/plain": [
       "Unnamed: 0                    0\n",
       "trans_date_trans_time         0\n",
       "cc_num                        0\n",
       "merchant                      0\n",
       "category                      0\n",
       "amt                           0\n",
       "first                         0\n",
       "last                          0\n",
       "gender                        0\n",
       "street                        0\n",
       "city                          0\n",
       "state                         0\n",
       "zip                           0\n",
       "lat                           0\n",
       "long                          0\n",
       "city_pop                      0\n",
       "job                           0\n",
       "dob                           0\n",
       "trans_num                     0\n",
       "unix_time                     0\n",
       "merch_lat                     0\n",
       "merch_long                    0\n",
       "is_fraud                      0\n",
       "merch_zipcode            195973\n",
       "hour                          0\n",
       "year                          0\n",
       "weekday                       0\n",
       "month                         0\n",
       "dtype: int64"
      ]
     },
     "execution_count": 7,
     "metadata": {},
     "output_type": "execute_result"
    }
   ],
   "source": [
    "df.isnull().sum()"
   ]
  },
  {
   "cell_type": "code",
   "execution_count": 8,
   "id": "66ba3076-dabf-4caa-9c0d-18fb792e7afb",
   "metadata": {},
   "outputs": [
    {
     "data": {
      "text/plain": [
       "Index(['Unnamed: 0', 'trans_date_trans_time', 'cc_num', 'merchant', 'category',\n",
       "       'amt', 'first', 'last', 'gender', 'street', 'city', 'state', 'zip',\n",
       "       'lat', 'long', 'city_pop', 'job', 'dob', 'trans_num', 'unix_time',\n",
       "       'merch_lat', 'merch_long', 'is_fraud', 'merch_zipcode', 'hour', 'year',\n",
       "       'weekday', 'month'],\n",
       "      dtype='object')"
      ]
     },
     "execution_count": 8,
     "metadata": {},
     "output_type": "execute_result"
    }
   ],
   "source": [
    "df.columns"
   ]
  },
  {
   "cell_type": "markdown",
   "id": "292c2fdc-f66c-4dc0-947a-abcdc9a098a8",
   "metadata": {},
   "source": [
    "trans_date_trans_time: fecha transacción\n",
    "cc_num: Número de tarjeta de crédito\n",
    "merchant: Comerciante o tienda donde se realizó la transacción.\n",
    "category: Tipo de transacción\n",
    "amt: Importe de la transacción.\n",
    "first: Nombre del titular de la tarjeta.\n",
    "last: Apellido del titular de la tarjeta.\n",
    "gender: Género del titular de la tarjeta.\n",
    "street: Datos de la dirección del titular de la tarjeta.\n",
    "city: Datos de la dirección del titular de la tarjeta.\n",
    "state: Datos de la dirección del titular de la tarjeta.\n",
    "zip: Codigo postal titular.\n",
    "lat: Coordenadas geográficas de la transacción.\n",
    "long: Coordenadas geográficas de la transacción.\n",
    "city_pop: Población de la ciudad donde se realizó la transacción.\n",
    "job: Ocupación del titular de la tarjeta.\n",
    "dob: Fecha de nacimiento del titular de la tarjeta.\n",
    "trans_num: Número de transacción único.\n",
    "unix_time: Marca de tiempo Unix de la transacción.\n",
    "merch_lat: Coordenadas geográficas del comerciante.\n",
    "merch_long: Coordenadas geográficas del comerciante.\n",
    "is_fraud: Indicador de si la transacción es fraudulenta.\n",
    "merch_zipcode: Codigo postal comerciante."
   ]
  },
  {
   "cell_type": "code",
   "execution_count": 9,
   "id": "845e9dc6-46e0-4ddb-8db7-1bad5644d080",
   "metadata": {},
   "outputs": [
    {
     "data": {
      "text/plain": [
       "merchant\n",
       "fraud_Kilback LLC                       4403\n",
       "fraud_Cormier LLC                       3649\n",
       "fraud_Schumm PLC                        3634\n",
       "fraud_Kuhn LLC                          3510\n",
       "fraud_Boyer PLC                         3493\n",
       "                                        ... \n",
       "fraud_Douglas, DuBuque and McKenzie      775\n",
       "fraud_Treutel-King                       775\n",
       "fraud_Medhurst, Labadie and Gottlieb     759\n",
       "fraud_Reichert-Weissnat                  753\n",
       "fraud_Hahn, Douglas and Schowalter       727\n",
       "Name: count, Length: 693, dtype: int64"
      ]
     },
     "execution_count": 9,
     "metadata": {},
     "output_type": "execute_result"
    }
   ],
   "source": [
    "df['merchant'].value_counts()"
   ]
  },
  {
   "cell_type": "code",
   "execution_count": 10,
   "id": "a91f7e96-3ce9-4e5e-9c33-e3e008e32d54",
   "metadata": {},
   "outputs": [
    {
     "data": {
      "text/plain": [
       "amt\n",
       "1.14       542\n",
       "1.04       538\n",
       "1.25       535\n",
       "1.02       533\n",
       "1.01       523\n",
       "          ... \n",
       "2090.14      1\n",
       "540.62       1\n",
       "578.42       1\n",
       "816.57       1\n",
       "280.17       1\n",
       "Name: count, Length: 52928, dtype: int64"
      ]
     },
     "execution_count": 10,
     "metadata": {},
     "output_type": "execute_result"
    }
   ],
   "source": [
    "df['amt'].value_counts()"
   ]
  },
  {
   "cell_type": "code",
   "execution_count": 11,
   "id": "f12991ef-87b1-4ae8-b8d0-a7f814450791",
   "metadata": {},
   "outputs": [
    {
     "data": {
      "text/plain": [
       "category\n",
       "gas_transport     131659\n",
       "grocery_pos       123638\n",
       "home              123115\n",
       "shopping_pos      116672\n",
       "kids_pets         113035\n",
       "shopping_net       97543\n",
       "entertainment      94014\n",
       "food_dining        91461\n",
       "personal_care      90758\n",
       "health_fitness     85879\n",
       "misc_pos           79655\n",
       "misc_net           63287\n",
       "grocery_net        45452\n",
       "travel             40507\n",
       "Name: count, dtype: int64"
      ]
     },
     "execution_count": 11,
     "metadata": {},
     "output_type": "execute_result"
    }
   ],
   "source": [
    "df['category'].value_counts()"
   ]
  },
  {
   "cell_type": "code",
   "execution_count": 12,
   "id": "a5e29968-1de8-4766-9ba1-6d79ad73f07f",
   "metadata": {},
   "outputs": [
    {
     "data": {
      "text/plain": [
       "gender\n",
       "F    709863\n",
       "M    586812\n",
       "Name: count, dtype: int64"
      ]
     },
     "execution_count": 12,
     "metadata": {},
     "output_type": "execute_result"
    }
   ],
   "source": [
    "df['gender'].value_counts()"
   ]
  },
  {
   "cell_type": "code",
   "execution_count": 13,
   "id": "166af0e0-10f5-4e0d-9229-1574254a541a",
   "metadata": {},
   "outputs": [
    {
     "data": {
      "text/plain": [
       "city\n",
       "Birmingham     5617\n",
       "San Antonio    5130\n",
       "Utica          5105\n",
       "Phoenix        5075\n",
       "Meridian       5060\n",
       "               ... \n",
       "Norfolk           7\n",
       "Karns City        7\n",
       "Streator          7\n",
       "Claypool          7\n",
       "Bruce             7\n",
       "Name: count, Length: 894, dtype: int64"
      ]
     },
     "execution_count": 13,
     "metadata": {},
     "output_type": "execute_result"
    }
   ],
   "source": [
    "df['city'].value_counts()"
   ]
  },
  {
   "cell_type": "code",
   "execution_count": 14,
   "id": "19eb8eb4-c11a-4afd-b20c-a0b130256750",
   "metadata": {},
   "outputs": [
    {
     "data": {
      "text/plain": [
       "job\n",
       "Film/video editor             9779\n",
       "Exhibition designer           9199\n",
       "Naval architect               8684\n",
       "Surveyor, land/geomatics      8680\n",
       "Materials engineer            8270\n",
       "                              ... \n",
       "Veterinary surgeon               8\n",
       "Information officer              8\n",
       "Contracting civil engineer       7\n",
       "Ship broker                      7\n",
       "Warehouse manager                7\n",
       "Name: count, Length: 494, dtype: int64"
      ]
     },
     "execution_count": 14,
     "metadata": {},
     "output_type": "execute_result"
    }
   ],
   "source": [
    "df['job'].value_counts()"
   ]
  },
  {
   "cell_type": "code",
   "execution_count": 15,
   "id": "bc8b03c2-2120-486c-9a84-7ab655d38d4f",
   "metadata": {},
   "outputs": [
    {
     "data": {
      "text/plain": [
       "cc_num\n",
       "4512828414983801773    3123\n",
       "571365235126           3123\n",
       "36722699017270         3119\n",
       "213112402583773        3117\n",
       "3545109339866548       3113\n",
       "                       ... \n",
       "4734310647841293          7\n",
       "4714017207228610634       7\n",
       "6011732631674654          7\n",
       "501894933032              7\n",
       "4975457191020             7\n",
       "Name: count, Length: 983, dtype: int64"
      ]
     },
     "execution_count": 15,
     "metadata": {},
     "output_type": "execute_result"
    }
   ],
   "source": [
    "df['cc_num'].value_counts()"
   ]
  },
  {
   "cell_type": "code",
   "execution_count": 16,
   "id": "8feda57f-aa17-4c4c-a72a-707a113deee2",
   "metadata": {},
   "outputs": [
    {
     "data": {
      "text/plain": [
       "state\n",
       "TX    94876\n",
       "NY    83501\n",
       "PA    79847\n",
       "CA    56360\n",
       "OH    46480\n",
       "MI    46154\n",
       "IL    43252\n",
       "FL    42671\n",
       "AL    40989\n",
       "MO    38403\n",
       "MN    31714\n",
       "AR    31127\n",
       "NC    30266\n",
       "WI    29368\n",
       "VA    29250\n",
       "SC    29190\n",
       "KY    28475\n",
       "IN    27580\n",
       "IA    26985\n",
       "OK    26671\n",
       "MD    26193\n",
       "GA    26063\n",
       "WV    25691\n",
       "NJ    24603\n",
       "NE    24168\n",
       "KS    22996\n",
       "MS    21188\n",
       "LA    20965\n",
       "WY    19322\n",
       "WA    18924\n",
       "OR    18597\n",
       "TN    17554\n",
       "ME    16505\n",
       "NM    16407\n",
       "ND    14786\n",
       "CO    13880\n",
       "MA    12376\n",
       "SD    12324\n",
       "VT    11768\n",
       "MT    11754\n",
       "AZ    10770\n",
       "UT    10699\n",
       "NH     8278\n",
       "CT     7702\n",
       "NV     5607\n",
       "ID     5545\n",
       "DC     3613\n",
       "HI     2559\n",
       "AK     2120\n",
       "RI      550\n",
       "DE        9\n",
       "Name: count, dtype: int64"
      ]
     },
     "execution_count": 16,
     "metadata": {},
     "output_type": "execute_result"
    }
   ],
   "source": [
    "df['state'].value_counts()"
   ]
  },
  {
   "cell_type": "code",
   "execution_count": 17,
   "id": "b64430f5-6e9c-436c-bf64-d0da23c32dc4",
   "metadata": {},
   "outputs": [
    {
     "data": {
      "text/plain": [
       "zip\n",
       "73754    3646\n",
       "34112    3613\n",
       "48088    3597\n",
       "82514    3527\n",
       "49628    3123\n",
       "         ... \n",
       "46510       7\n",
       "23523       7\n",
       "77027       7\n",
       "95688       7\n",
       "37411       7\n",
       "Name: count, Length: 970, dtype: int64"
      ]
     },
     "execution_count": 17,
     "metadata": {},
     "output_type": "execute_result"
    }
   ],
   "source": [
    "df['zip'].value_counts()"
   ]
  },
  {
   "cell_type": "code",
   "execution_count": 18,
   "id": "7a1c51e6-d4c8-4b51-9d16-4a3eca38cc58",
   "metadata": {},
   "outputs": [
    {
     "data": {
      "text/plain": [
       "is_fraud\n",
       "0    1289169\n",
       "1       7506\n",
       "Name: count, dtype: int64"
      ]
     },
     "execution_count": 18,
     "metadata": {},
     "output_type": "execute_result"
    }
   ],
   "source": [
    "df['is_fraud'].value_counts()"
   ]
  },
  {
   "cell_type": "code",
   "execution_count": 19,
   "id": "4e1019be-c865-4dc6-876b-e3b9686c1fa3",
   "metadata": {},
   "outputs": [
    {
     "data": {
      "text/plain": [
       "trans_num\n",
       "8f7c8e4ab7f25875d753b422917c98c9    1\n",
       "0b242abb623afc578575680df30655b9    1\n",
       "1f76529f8574734946361c461b024d99    1\n",
       "710a88b3b93a13cab79aae87237a3ddf    1\n",
       "b8a8575d70f33234cb53bb22b50a0fd9    1\n",
       "                                   ..\n",
       "6d294ed2cc447d2c71c7171a3d54967c    1\n",
       "83ec1cc84142af6e2acf10c44949e720    1\n",
       "189a841a0a8ba03058526bcfe566aab5    1\n",
       "a41d7549acf90789359a9aa5346dcb46    1\n",
       "6b849c168bdad6f867558c3793159a81    1\n",
       "Name: count, Length: 1296675, dtype: int64"
      ]
     },
     "execution_count": 19,
     "metadata": {},
     "output_type": "execute_result"
    }
   ],
   "source": [
    "df['trans_num'].value_counts()"
   ]
  },
  {
   "cell_type": "code",
   "execution_count": 20,
   "id": "eea0100d-d208-48a9-92b1-a52fd9873b45",
   "metadata": {},
   "outputs": [
    {
     "data": {
      "text/plain": [
       "year\n",
       "2019    924850\n",
       "2020    371825\n",
       "Name: count, dtype: int64"
      ]
     },
     "execution_count": 20,
     "metadata": {},
     "output_type": "execute_result"
    }
   ],
   "source": [
    "df['year'].value_counts()"
   ]
  },
  {
   "cell_type": "code",
   "execution_count": 21,
   "id": "d5f73a00-8802-4fa2-adb6-dc54b78ab90f",
   "metadata": {},
   "outputs": [],
   "source": [
    "df = df.drop(['Unnamed: 0', 'merch_zipcode'], axis=1)"
   ]
  },
  {
   "cell_type": "markdown",
   "id": "2759299d-7ef2-4522-ae6e-a009e1b6a83a",
   "metadata": {},
   "source": [
    "# GRAFICAS"
   ]
  },
  {
   "cell_type": "markdown",
   "id": "43698d96-ac8e-4739-a6b1-6378a5d50e5f",
   "metadata": {},
   "source": [
    "## GENEROS"
   ]
  },
  {
   "cell_type": "code",
   "execution_count": null,
   "id": "a8d335b1-7a29-4d2e-983e-02951186b918",
   "metadata": {},
   "outputs": [],
   "source": [
    "female_transactions = df[df['gender'] == 'F']\n",
    "male_transactions = df[df['gender'] == 'M']"
   ]
  },
  {
   "cell_type": "code",
   "execution_count": null,
   "id": "c3f4f1fc-7aa2-4ec9-8ce8-1da6ce0e896b",
   "metadata": {},
   "outputs": [],
   "source": [
    "category_transactions = female_transactions['category'].value_counts()\n",
    "categories = category_transactions.index\n",
    "transaction_counts = category_transactions.values"
   ]
  },
  {
   "cell_type": "code",
   "execution_count": null,
   "id": "d643c7c3-2352-467a-aff8-dc93a009d05b",
   "metadata": {},
   "outputs": [],
   "source": [
    "plt.figure(figsize=(10, 6))\n",
    "plt.bar(categories, transaction_counts, color='skyblue')\n",
    "plt.title('Number of Transactions by Category for Female Customers')\n",
    "plt.xlabel('Category')\n",
    "plt.ylabel('Number of Transactions')\n",
    "plt.xticks(rotation=45, ha='right')\n",
    "\n",
    "plt.show()"
   ]
  },
  {
   "cell_type": "code",
   "execution_count": null,
   "id": "4c720e82-f585-4d2a-af0c-d8504757b6af",
   "metadata": {},
   "outputs": [],
   "source": [
    "category2_transactions = male_transactions['category'].value_counts()\n",
    "categories2 = category2_transactions.index\n",
    "transaction_counts2 = category2_transactions.values"
   ]
  },
  {
   "cell_type": "code",
   "execution_count": null,
   "id": "d5164a0d-3dc5-4d30-93eb-a1f407cc3c8b",
   "metadata": {},
   "outputs": [],
   "source": [
    "plt.figure(figsize=(10, 6))\n",
    "plt.bar(categories2, transaction_counts2, color='skyblue')\n",
    "plt.title('Number of Transactions by Category for Male Customers')\n",
    "plt.xlabel('Category')\n",
    "plt.ylabel('Number of Transactions')\n",
    "plt.xticks(rotation=45, ha='right')\n",
    "\n",
    "plt.show()"
   ]
  },
  {
   "cell_type": "code",
   "execution_count": null,
   "id": "05239b69-aead-429a-935e-83690610a3ad",
   "metadata": {},
   "outputs": [],
   "source": [
    "df_transaction_female = female_transactions.groupby('hour')['amt'].sum().reset_index()\n",
    "plt.figure(figsize=(10, 6))\n",
    "sns.barplot(x='hour', y='amt', data=df_transaction_female, palette='viridis')\n",
    "plt.title('hour tansactions female')\n",
    "plt.xlabel('Hour')\n",
    "plt.ylabel('Total transactions')\n",
    "\n",
    "plt.show()"
   ]
  },
  {
   "cell_type": "code",
   "execution_count": null,
   "id": "0743df2b-8cdc-4120-9528-d83cd33304b4",
   "metadata": {},
   "outputs": [],
   "source": [
    "df_transaction_male = male_transactions.groupby('hour')['amt'].sum().reset_index()\n",
    "plt.figure(figsize=(10, 6))\n",
    "sns.barplot(x='hour', y='amt', data=df_transaction_male, palette='viridis')\n",
    "plt.title('hour tansactions male')\n",
    "plt.xlabel('Hour')\n",
    "plt.ylabel('Total transactions')\n",
    "\n",
    "plt.show()"
   ]
  },
  {
   "cell_type": "code",
   "execution_count": null,
   "id": "55ea7f8b-d285-41b8-aba9-731b73c72935",
   "metadata": {},
   "outputs": [],
   "source": [
    "month_transaction_female = female_transactions.groupby('month')['amt'].sum().reset_index()\n",
    "plt.figure(figsize=(10, 6))\n",
    "sns.barplot(x='month', y='amt', data=month_transaction_female, palette='viridis')\n",
    "plt.title('Month tansactions male')\n",
    "plt.xlabel('Month')\n",
    "plt.ylabel('Total transactions')\n",
    "\n",
    "plt.show()"
   ]
  },
  {
   "cell_type": "code",
   "execution_count": null,
   "id": "95c726e2-23fc-4f1f-831a-88a4d8856ffd",
   "metadata": {},
   "outputs": [],
   "source": [
    "month_transaction_male = male_transactions.groupby('month')['amt'].sum().reset_index()\n",
    "plt.figure(figsize=(10, 6))\n",
    "sns.barplot(x='month', y='amt', data=month_transaction_male, palette='viridis')\n",
    "plt.title('Month tansactions male')\n",
    "plt.xlabel('Month')\n",
    "plt.ylabel('Total transactions')\n",
    "\n",
    "plt.show()"
   ]
  },
  {
   "cell_type": "markdown",
   "id": "c571a3a0-91ad-4d09-ad3f-658abf7d635f",
   "metadata": {},
   "source": [
    "Tanto hombres como mujeres tienen gastos por horas y mensuales similares."
   ]
  },
  {
   "cell_type": "markdown",
   "id": "3076e95a-5c3d-4579-ace1-57c0281cdb93",
   "metadata": {},
   "source": [
    "## State"
   ]
  },
  {
   "cell_type": "code",
   "execution_count": null,
   "id": "8b60336a-30ac-4884-8773-3ab383ec9902",
   "metadata": {},
   "outputs": [],
   "source": [
    "state_counts = df['state'].value_counts().reset_index()\n",
    "state_counts.columns = ['state', 'client_count']\n",
    "plt.figure(figsize=(10, 6))\n",
    "sns.barplot(x='state', y='client_count', data=state_counts.head(15), hue = 'state')\n",
    "plt.title('Transaction of state')\n",
    "plt.xlabel('State')\n",
    "plt.ylabel('Count of client')\n",
    "\n",
    "plt.show()"
   ]
  },
  {
   "cell_type": "code",
   "execution_count": null,
   "id": "907dd11d-d602-4179-9206-104d10d239f9",
   "metadata": {},
   "outputs": [],
   "source": [
    "plt.figure(figsize=(10, 6))\n",
    "sns.barplot(x='state', y='client_count', data=state_counts.tail(15), hue = 'state')\n",
    "plt.title('Transaction of state')\n",
    "plt.xlabel('State')\n",
    "plt.ylabel('Count of client')\n",
    "\n",
    "plt.show()"
   ]
  },
  {
   "cell_type": "markdown",
   "id": "b9a32499-2091-468f-aeea-cc35e5b2822f",
   "metadata": {},
   "source": [
    "Se puede comprobar los 15 Estados en los que mas transacciones se hacen y los 15 Estados en los que menos transacciones se hacen."
   ]
  },
  {
   "cell_type": "markdown",
   "id": "dda2e79e-3626-45bb-a0f2-b76eb619e02a",
   "metadata": {},
   "source": [
    "# MERCHANT "
   ]
  },
  {
   "cell_type": "code",
   "execution_count": null,
   "id": "b222bae5-725d-4020-9fd8-6504e6fc45d5",
   "metadata": {},
   "outputs": [],
   "source": [
    "merchant_counts = df['merchant'].value_counts().reset_index()\n",
    "merchant_counts.columns = ['merchant', 'client_count']\n",
    "plt.figure(figsize=(10, 6))\n",
    "sns.barplot(x='merchant', y='client_count', data=merchant_counts.head(10), hue = 'merchant')\n",
    "plt.title('Transaction of merchant')\n",
    "plt.xlabel('Merchant')\n",
    "plt.ylabel('Count of client')\n",
    "plt.xticks(rotation=45, ha='right')\n",
    "plt.show()"
   ]
  },
  {
   "cell_type": "code",
   "execution_count": null,
   "id": "f58141af-53e7-46d0-9f16-625d129dbc1d",
   "metadata": {},
   "outputs": [],
   "source": []
  },
  {
   "cell_type": "code",
   "execution_count": null,
   "id": "f5c8b40e-9b4f-4764-8840-a556ee69d739",
   "metadata": {},
   "outputs": [],
   "source": []
  },
  {
   "cell_type": "code",
   "execution_count": null,
   "id": "30b403d2-e961-49fd-b820-bebf466498fe",
   "metadata": {},
   "outputs": [],
   "source": []
  },
  {
   "cell_type": "code",
   "execution_count": null,
   "id": "ee838c9d-1bc0-466a-8abb-4555dcfdc219",
   "metadata": {},
   "outputs": [],
   "source": []
  },
  {
   "cell_type": "code",
   "execution_count": null,
   "id": "d5df047b-3ab2-4f61-be8a-488534cba0ba",
   "metadata": {},
   "outputs": [],
   "source": []
  },
  {
   "cell_type": "markdown",
   "id": "e3686b7d-9c1d-40bf-9816-4c4fc331dea3",
   "metadata": {},
   "source": [
    "# Fraud"
   ]
  },
  {
   "cell_type": "code",
   "execution_count": null,
   "id": "1e574903-b5b4-4008-bffd-e79c4512112d",
   "metadata": {},
   "outputs": [],
   "source": [
    "fraud_transactions = df[df['is_fraud'] == 1]"
   ]
  },
  {
   "cell_type": "code",
   "execution_count": null,
   "id": "fa69bd31-9616-4bcc-af74-00342937c193",
   "metadata": {},
   "outputs": [],
   "source": [
    "fraud = fraud_transactions['category'].value_counts()\n",
    "fraud_categories = fraud.index\n",
    "fraud_counts = fraud.values"
   ]
  },
  {
   "cell_type": "code",
   "execution_count": null,
   "id": "93859225-8d50-4219-898f-d8b7d032429c",
   "metadata": {},
   "outputs": [],
   "source": [
    "plt.figure(figsize=(10, 6))\n",
    "plt.bar(fraud_categories, fraud_counts, color='skyblue')\n",
    "plt.title('Number of fraud by Category for Customers')\n",
    "plt.xlabel('Category')\n",
    "plt.ylabel('Number of Fraud')\n",
    "plt.xticks(rotation=45, ha='right')\n",
    "\n",
    "plt.show()"
   ]
  },
  {
   "cell_type": "code",
   "execution_count": null,
   "id": "d7260e57-a590-4a70-9291-b8434e2147c3",
   "metadata": {},
   "outputs": [],
   "source": []
  },
  {
   "cell_type": "code",
   "execution_count": null,
   "id": "047bd895-80ac-4a10-a5a9-2909ead27457",
   "metadata": {},
   "outputs": [],
   "source": []
  },
  {
   "cell_type": "code",
   "execution_count": null,
   "id": "4bd9ff82-cb4d-4d72-9706-bb8ddaba801b",
   "metadata": {},
   "outputs": [],
   "source": []
  },
  {
   "cell_type": "code",
   "execution_count": null,
   "id": "7367cc32-ddfa-4406-80f9-100e9c555e7b",
   "metadata": {},
   "outputs": [],
   "source": []
  },
  {
   "cell_type": "code",
   "execution_count": null,
   "id": "38d70120-0d4c-48be-b746-0c125f82cc4c",
   "metadata": {},
   "outputs": [],
   "source": []
  },
  {
   "cell_type": "code",
   "execution_count": null,
   "id": "011f9a34-1bc8-4e71-907d-0b559c011728",
   "metadata": {},
   "outputs": [],
   "source": []
  },
  {
   "cell_type": "code",
   "execution_count": null,
   "id": "e342ff14-9c03-484e-b539-17a77db141d8",
   "metadata": {},
   "outputs": [],
   "source": []
  },
  {
   "cell_type": "code",
   "execution_count": null,
   "id": "4bd87725-7d71-4265-8a65-573157fd0424",
   "metadata": {},
   "outputs": [],
   "source": []
  },
  {
   "cell_type": "code",
   "execution_count": null,
   "id": "172074e3-f9c1-45ef-a03e-7b84d90766c6",
   "metadata": {},
   "outputs": [],
   "source": []
  },
  {
   "cell_type": "code",
   "execution_count": null,
   "id": "be68a737-70a3-4f6f-8fd2-cd2ff84ae7c9",
   "metadata": {},
   "outputs": [],
   "source": []
  },
  {
   "cell_type": "code",
   "execution_count": null,
   "id": "3d11e128-5e4b-4fa3-8bcc-a823cfbb10fc",
   "metadata": {},
   "outputs": [],
   "source": []
  },
  {
   "cell_type": "code",
   "execution_count": null,
   "id": "d94d7b22-a8b0-4ec1-bb67-e5a5646533a3",
   "metadata": {},
   "outputs": [],
   "source": []
  },
  {
   "cell_type": "code",
   "execution_count": null,
   "id": "0d68e976-e17d-4874-8f7b-cb923feb0cd5",
   "metadata": {},
   "outputs": [],
   "source": []
  }
 ],
 "metadata": {
  "kernelspec": {
   "display_name": "Python 3 (ipykernel)",
   "language": "python",
   "name": "python3"
  },
  "language_info": {
   "codemirror_mode": {
    "name": "ipython",
    "version": 3
   },
   "file_extension": ".py",
   "mimetype": "text/x-python",
   "name": "python",
   "nbconvert_exporter": "python",
   "pygments_lexer": "ipython3",
   "version": "3.12.3"
  }
 },
 "nbformat": 4,
 "nbformat_minor": 5
}
